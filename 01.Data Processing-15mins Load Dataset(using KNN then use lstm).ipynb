{
 "cells": [
  {
   "cell_type": "code",
   "execution_count": 1,
   "id": "d02640da",
   "metadata": {},
   "outputs": [
    {
     "name": "stdout",
     "output_type": "stream",
     "text": [
      "WARNING:tensorflow:From C:\\Users\\86130\\anaconda3\\lib\\site-packages\\keras\\src\\losses.py:2976: The name tf.losses.sparse_softmax_cross_entropy is deprecated. Please use tf.compat.v1.losses.sparse_softmax_cross_entropy instead.\n",
      "\n"
     ]
    }
   ],
   "source": [
    "from sklearn.preprocessing import MinMaxScaler\n",
    "import os\n",
    "import sys\n",
    "import warnings\n",
    "warnings.filterwarnings('ignore')\n",
    "import pandas as pd\n",
    "import numpy as np\n",
    "import os\n",
    "from tqdm import tqdm\n",
    "from sklearn.preprocessing import LabelEncoder\n",
    "from datetime import datetime, timedelta\n",
    "import matplotlib.pyplot as plt\n",
    "from keras.layers import LSTM, Dense\n",
    "from keras.models import Sequential"
   ]
  },
  {
   "cell_type": "code",
   "execution_count": 2,
   "id": "5e3c16e2",
   "metadata": {},
   "outputs": [],
   "source": [
    "import pandas as pd\n",
    "# Read the data and parse the date column into date time format, and set the date column as an index. \n",
    "#The data set should originally have 128544 rows, but currently it is 128156 rows, and there are missing values.\n",
    "df=pd.read_csv(r'C:\\\\Users\\\\86130\\\\00.Project\\\\03.Datasets\\\\Regional 15 minutes load data-10-21.csv',\n",
    "               sep=',',  # Set data delimiter\n",
    "                     index_col='datatime',  # set index\n",
    "                     na_values=['?', 0, 'nan'],  # set nan as missing value \n",
    "               parse_dates= ['datatime'] )#transfor datatime"
   ]
  },
  {
   "cell_type": "code",
   "execution_count": 3,
   "id": "6b4cdfc3",
   "metadata": {},
   "outputs": [
    {
     "name": "stdout",
     "output_type": "stream",
     "text": [
      "<class 'pandas.core.frame.DataFrame'>\n",
      "DatetimeIndex: 128156 entries, 2018-01-01 00:00:00 to 2021-08-31 23:45:00\n",
      "Data columns (total 1 columns):\n",
      " #   Column                 Non-Null Count   Dtype  \n",
      "---  ------                 --------------   -----  \n",
      " 0   total power usage（kw）  128156 non-null  float64\n",
      "dtypes: float64(1)\n",
      "memory usage: 2.0 MB\n"
     ]
    }
   ],
   "source": [
    "df.info()"
   ]
  },
  {
   "cell_type": "code",
   "execution_count": 4,
   "id": "8b6df695",
   "metadata": {},
   "outputs": [
    {
     "name": "stdout",
     "output_type": "stream",
     "text": [
      "                     total power usage（kw）\n",
      "datatime                                  \n",
      "2018-01-01 00:00:00            244033.7682\n",
      "2018-01-01 00:15:00            232720.6402\n",
      "2018-01-01 00:30:00            231685.6891\n",
      "2018-01-01 00:45:00            227581.3317\n",
      "2018-01-01 01:00:00            233482.4269\n",
      "...                                    ...\n",
      "2021-08-31 22:45:00            202409.1270\n",
      "2021-08-31 23:00:00            218576.4635\n",
      "2021-08-31 23:15:00            200112.5091\n",
      "2021-08-31 23:30:00            199865.5937\n",
      "2021-08-31 23:45:00            198483.5592\n",
      "\n",
      "[128156 rows x 1 columns]\n"
     ]
    }
   ],
   "source": [
    "print(df)"
   ]
  },
  {
   "cell_type": "code",
   "execution_count": 5,
   "id": "5cafc472",
   "metadata": {},
   "outputs": [
    {
     "data": {
      "text/html": [
       "<div>\n",
       "<style scoped>\n",
       "    .dataframe tbody tr th:only-of-type {\n",
       "        vertical-align: middle;\n",
       "    }\n",
       "\n",
       "    .dataframe tbody tr th {\n",
       "        vertical-align: top;\n",
       "    }\n",
       "\n",
       "    .dataframe thead th {\n",
       "        text-align: right;\n",
       "    }\n",
       "</style>\n",
       "<table border=\"1\" class=\"dataframe\">\n",
       "  <thead>\n",
       "    <tr style=\"text-align: right;\">\n",
       "      <th></th>\n",
       "      <th>total power usage（kw）</th>\n",
       "    </tr>\n",
       "  </thead>\n",
       "  <tbody>\n",
       "    <tr>\n",
       "      <th>count</th>\n",
       "      <td>128156.000000</td>\n",
       "    </tr>\n",
       "    <tr>\n",
       "      <th>mean</th>\n",
       "      <td>213680.590137</td>\n",
       "    </tr>\n",
       "    <tr>\n",
       "      <th>std</th>\n",
       "      <td>45331.197642</td>\n",
       "    </tr>\n",
       "    <tr>\n",
       "      <th>min</th>\n",
       "      <td>3294.540900</td>\n",
       "    </tr>\n",
       "    <tr>\n",
       "      <th>25%</th>\n",
       "      <td>189740.795300</td>\n",
       "    </tr>\n",
       "    <tr>\n",
       "      <th>50%</th>\n",
       "      <td>209407.307500</td>\n",
       "    </tr>\n",
       "    <tr>\n",
       "      <th>75%</th>\n",
       "      <td>239193.818575</td>\n",
       "    </tr>\n",
       "    <tr>\n",
       "      <th>max</th>\n",
       "      <td>369600.468100</td>\n",
       "    </tr>\n",
       "  </tbody>\n",
       "</table>\n",
       "</div>"
      ],
      "text/plain": [
       "       total power usage（kw）\n",
       "count          128156.000000\n",
       "mean           213680.590137\n",
       "std             45331.197642\n",
       "min              3294.540900\n",
       "25%            189740.795300\n",
       "50%            209407.307500\n",
       "75%            239193.818575\n",
       "max            369600.468100"
      ]
     },
     "execution_count": 5,
     "metadata": {},
     "output_type": "execute_result"
    }
   ],
   "source": [
    "df.describe()"
   ]
  },
  {
   "cell_type": "code",
   "execution_count": 6,
   "id": "6e1489f6",
   "metadata": {},
   "outputs": [],
   "source": [
    "## Check whether there are missing values in the data set, mainly because the date is used as the index, \n",
    "#so checking whether the date is missing is a key clue\n",
    "## Generate a desired date range\n",
    "expected_dates = pd.date_range(start=df.index.min(), end=df.index.max(), freq='15T')"
   ]
  },
  {
   "cell_type": "code",
   "execution_count": 7,
   "id": "30f1b711",
   "metadata": {},
   "outputs": [],
   "source": [
    "##find missing dates\n",
    "missing_dates = expected_dates[~expected_dates.isin(df.index)]"
   ]
  },
  {
   "cell_type": "code",
   "execution_count": 8,
   "id": "89671656",
   "metadata": {},
   "outputs": [
    {
     "name": "stdout",
     "output_type": "stream",
     "text": [
      "DatetimeIndex(['2019-06-14 08:15:00', '2019-06-14 08:30:00',\n",
      "               '2019-06-14 08:45:00', '2019-06-14 09:00:00',\n",
      "               '2019-06-14 09:15:00', '2019-06-14 09:30:00',\n",
      "               '2019-06-14 09:45:00', '2019-06-14 10:00:00',\n",
      "               '2019-06-14 10:15:00', '2019-06-14 10:30:00',\n",
      "               ...\n",
      "               '2021-08-09 05:15:00', '2021-08-09 05:30:00',\n",
      "               '2021-08-09 05:45:00', '2021-08-09 06:00:00',\n",
      "               '2021-08-09 06:15:00', '2021-08-09 06:30:00',\n",
      "               '2021-08-09 06:45:00', '2021-08-09 07:00:00',\n",
      "               '2021-08-09 07:15:00', '2021-08-09 07:30:00'],\n",
      "              dtype='datetime64[ns]', length=388, freq=None)\n"
     ]
    }
   ],
   "source": [
    "##print missing dates \n",
    "print(missing_dates)"
   ]
  },
  {
   "cell_type": "code",
   "execution_count": 9,
   "id": "33573761",
   "metadata": {},
   "outputs": [],
   "source": [
    "#start_date = '2019-06-13 10:00:00'\n",
    "#end_date = '2021-08-10 06:15:00'\n",
    "#filtered_df = df[(df['datatime'] >= start_date) & (df['datatime'] <= end_date)]\n",
    "\n",
    "## Plotting the data\n",
    "#plt.figure(figsize=(10, 6))\n",
    "#plt.plot(filtered_df['datatime'], filtered_df['value'], marker='o', linestyle='-', color='b')\n",
    "#plt.title('Time Series Plot (2019-06-13 10:00:00 to 2021-08-10 06:15:00)')\n",
    "#plt.xlabel('Datetime')\n",
    "#plt.ylabel('Value')\n",
    "#plt.grid(True)\n",
    "#plt.show()"
   ]
  },
  {
   "cell_type": "code",
   "execution_count": 10,
   "id": "9bee0d24",
   "metadata": {},
   "outputs": [],
   "source": [
    "missing_data = pd.DataFrame(index=missing_dates, columns=df.columns)# Create a DataFrame with missing dates and NaN values"
   ]
  },
  {
   "cell_type": "code",
   "execution_count": 11,
   "id": "b746bf96",
   "metadata": {},
   "outputs": [
    {
     "data": {
      "text/html": [
       "<div>\n",
       "<style scoped>\n",
       "    .dataframe tbody tr th:only-of-type {\n",
       "        vertical-align: middle;\n",
       "    }\n",
       "\n",
       "    .dataframe tbody tr th {\n",
       "        vertical-align: top;\n",
       "    }\n",
       "\n",
       "    .dataframe thead th {\n",
       "        text-align: right;\n",
       "    }\n",
       "</style>\n",
       "<table border=\"1\" class=\"dataframe\">\n",
       "  <thead>\n",
       "    <tr style=\"text-align: right;\">\n",
       "      <th></th>\n",
       "      <th>total power usage（kw）</th>\n",
       "    </tr>\n",
       "  </thead>\n",
       "  <tbody>\n",
       "    <tr>\n",
       "      <th>2019-06-14 08:15:00</th>\n",
       "      <td>NaN</td>\n",
       "    </tr>\n",
       "    <tr>\n",
       "      <th>2019-06-14 08:30:00</th>\n",
       "      <td>NaN</td>\n",
       "    </tr>\n",
       "    <tr>\n",
       "      <th>2019-06-14 08:45:00</th>\n",
       "      <td>NaN</td>\n",
       "    </tr>\n",
       "    <tr>\n",
       "      <th>2019-06-14 09:00:00</th>\n",
       "      <td>NaN</td>\n",
       "    </tr>\n",
       "    <tr>\n",
       "      <th>2019-06-14 09:15:00</th>\n",
       "      <td>NaN</td>\n",
       "    </tr>\n",
       "    <tr>\n",
       "      <th>...</th>\n",
       "      <td>...</td>\n",
       "    </tr>\n",
       "    <tr>\n",
       "      <th>2021-08-09 06:30:00</th>\n",
       "      <td>NaN</td>\n",
       "    </tr>\n",
       "    <tr>\n",
       "      <th>2021-08-09 06:45:00</th>\n",
       "      <td>NaN</td>\n",
       "    </tr>\n",
       "    <tr>\n",
       "      <th>2021-08-09 07:00:00</th>\n",
       "      <td>NaN</td>\n",
       "    </tr>\n",
       "    <tr>\n",
       "      <th>2021-08-09 07:15:00</th>\n",
       "      <td>NaN</td>\n",
       "    </tr>\n",
       "    <tr>\n",
       "      <th>2021-08-09 07:30:00</th>\n",
       "      <td>NaN</td>\n",
       "    </tr>\n",
       "  </tbody>\n",
       "</table>\n",
       "<p>388 rows × 1 columns</p>\n",
       "</div>"
      ],
      "text/plain": [
       "                    total power usage（kw）\n",
       "2019-06-14 08:15:00                   NaN\n",
       "2019-06-14 08:30:00                   NaN\n",
       "2019-06-14 08:45:00                   NaN\n",
       "2019-06-14 09:00:00                   NaN\n",
       "2019-06-14 09:15:00                   NaN\n",
       "...                                   ...\n",
       "2021-08-09 06:30:00                   NaN\n",
       "2021-08-09 06:45:00                   NaN\n",
       "2021-08-09 07:00:00                   NaN\n",
       "2021-08-09 07:15:00                   NaN\n",
       "2021-08-09 07:30:00                   NaN\n",
       "\n",
       "[388 rows x 1 columns]"
      ]
     },
     "execution_count": 11,
     "metadata": {},
     "output_type": "execute_result"
    }
   ],
   "source": [
    "missing_data"
   ]
  },
  {
   "cell_type": "code",
   "execution_count": 12,
   "id": "92ac34ca",
   "metadata": {},
   "outputs": [],
   "source": [
    "missing_data.to_csv(r\"C:\\Users\\86130\\00.Project\\00.Data Preprocessing\\Missing_data_15Minutes.csv\",index=True,header=True) "
   ]
  },
  {
   "cell_type": "code",
   "execution_count": 13,
   "id": "ca6e93ee",
   "metadata": {},
   "outputs": [],
   "source": [
    "merged_df = pd.concat([df, missing_data])# Concatenate the missing data with the original DataFrame"
   ]
  },
  {
   "cell_type": "code",
   "execution_count": 14,
   "id": "2ee9cb37",
   "metadata": {},
   "outputs": [],
   "source": [
    "# Sort the DataFrame by index (date)\n",
    "merged_df.sort_index(inplace=True)"
   ]
  },
  {
   "cell_type": "code",
   "execution_count": 15,
   "id": "111a32c3",
   "metadata": {},
   "outputs": [
    {
     "data": {
      "text/html": [
       "<div>\n",
       "<style scoped>\n",
       "    .dataframe tbody tr th:only-of-type {\n",
       "        vertical-align: middle;\n",
       "    }\n",
       "\n",
       "    .dataframe tbody tr th {\n",
       "        vertical-align: top;\n",
       "    }\n",
       "\n",
       "    .dataframe thead th {\n",
       "        text-align: right;\n",
       "    }\n",
       "</style>\n",
       "<table border=\"1\" class=\"dataframe\">\n",
       "  <thead>\n",
       "    <tr style=\"text-align: right;\">\n",
       "      <th></th>\n",
       "      <th>total power usage（kw）</th>\n",
       "    </tr>\n",
       "  </thead>\n",
       "  <tbody>\n",
       "    <tr>\n",
       "      <th>2018-01-01 00:00:00</th>\n",
       "      <td>False</td>\n",
       "    </tr>\n",
       "    <tr>\n",
       "      <th>2018-01-01 00:15:00</th>\n",
       "      <td>False</td>\n",
       "    </tr>\n",
       "    <tr>\n",
       "      <th>2018-01-01 00:30:00</th>\n",
       "      <td>False</td>\n",
       "    </tr>\n",
       "    <tr>\n",
       "      <th>2018-01-01 00:45:00</th>\n",
       "      <td>False</td>\n",
       "    </tr>\n",
       "    <tr>\n",
       "      <th>2018-01-01 01:00:00</th>\n",
       "      <td>False</td>\n",
       "    </tr>\n",
       "    <tr>\n",
       "      <th>...</th>\n",
       "      <td>...</td>\n",
       "    </tr>\n",
       "    <tr>\n",
       "      <th>2021-08-31 22:45:00</th>\n",
       "      <td>False</td>\n",
       "    </tr>\n",
       "    <tr>\n",
       "      <th>2021-08-31 23:00:00</th>\n",
       "      <td>False</td>\n",
       "    </tr>\n",
       "    <tr>\n",
       "      <th>2021-08-31 23:15:00</th>\n",
       "      <td>False</td>\n",
       "    </tr>\n",
       "    <tr>\n",
       "      <th>2021-08-31 23:30:00</th>\n",
       "      <td>False</td>\n",
       "    </tr>\n",
       "    <tr>\n",
       "      <th>2021-08-31 23:45:00</th>\n",
       "      <td>False</td>\n",
       "    </tr>\n",
       "  </tbody>\n",
       "</table>\n",
       "<p>128544 rows × 1 columns</p>\n",
       "</div>"
      ],
      "text/plain": [
       "                     total power usage（kw）\n",
       "2018-01-01 00:00:00                  False\n",
       "2018-01-01 00:15:00                  False\n",
       "2018-01-01 00:30:00                  False\n",
       "2018-01-01 00:45:00                  False\n",
       "2018-01-01 01:00:00                  False\n",
       "...                                    ...\n",
       "2021-08-31 22:45:00                  False\n",
       "2021-08-31 23:00:00                  False\n",
       "2021-08-31 23:15:00                  False\n",
       "2021-08-31 23:30:00                  False\n",
       "2021-08-31 23:45:00                  False\n",
       "\n",
       "[128544 rows x 1 columns]"
      ]
     },
     "execution_count": 15,
     "metadata": {},
     "output_type": "execute_result"
    }
   ],
   "source": [
    "merged_df.isnull()"
   ]
  },
  {
   "cell_type": "code",
   "execution_count": 16,
   "id": "39fc0cc4",
   "metadata": {},
   "outputs": [],
   "source": [
    "import pandas as pd\n",
    "from sklearn.impute import KNNImputer"
   ]
  },
  {
   "cell_type": "code",
   "execution_count": 17,
   "id": "68b37c4c",
   "metadata": {},
   "outputs": [],
   "source": [
    "###Select features.Only the values of the first 4 moments are used here. \n",
    "###Why choose the values of the first 4 moments? Because there are 4 15 minutes in an hour.\n",
    "features = merged_df.shift(4)"
   ]
  },
  {
   "cell_type": "code",
   "execution_count": 18,
   "id": "e4a3c9dc",
   "metadata": {},
   "outputs": [],
   "source": [
    "# normalized data\n",
    "from sklearn.preprocessing import StandardScaler\n",
    "scaler = StandardScaler()\n",
    "scaled_features = scaler.fit_transform(features)"
   ]
  },
  {
   "cell_type": "code",
   "execution_count": 19,
   "id": "c53b677e",
   "metadata": {},
   "outputs": [],
   "source": [
    "# Initialize the KNN model and set the number of neighbors\n",
    "knn_imputer = KNNImputer(n_neighbors=3)"
   ]
  },
  {
   "cell_type": "code",
   "execution_count": 20,
   "id": "00ddd9f0",
   "metadata": {},
   "outputs": [],
   "source": [
    "# Fit KNN model and predict missing values\n",
    "filled_data = knn_imputer.fit_transform(scaled_features)"
   ]
  },
  {
   "cell_type": "code",
   "execution_count": 21,
   "id": "4af50905",
   "metadata": {},
   "outputs": [],
   "source": [
    "# Reverse normalization of filled data\n",
    "filled_data = scaler.inverse_transform(filled_data)"
   ]
  },
  {
   "cell_type": "code",
   "execution_count": 22,
   "id": "1df8deaa",
   "metadata": {},
   "outputs": [],
   "source": [
    "# Create new dataframe\n",
    "filled_df = pd.DataFrame(filled_data, columns=features.columns, index=merged_df.index)"
   ]
  },
  {
   "cell_type": "code",
   "execution_count": 23,
   "id": "4f3ee9e5",
   "metadata": {},
   "outputs": [
    {
     "name": "stdout",
     "output_type": "stream",
     "text": [
      "                     total power usage（kw）\n",
      "2018-01-01 00:00:00          213680.884196\n",
      "2018-01-01 00:15:00          213680.884196\n",
      "2018-01-01 00:30:00          213680.884196\n",
      "2018-01-01 00:45:00          213680.884196\n",
      "2018-01-01 01:00:00          244033.768200\n",
      "...                                    ...\n",
      "2021-08-31 22:45:00          208582.660400\n",
      "2021-08-31 23:00:00          223853.995300\n",
      "2021-08-31 23:15:00          205156.643300\n",
      "2021-08-31 23:30:00          203120.680100\n",
      "2021-08-31 23:45:00          202409.127000\n",
      "\n",
      "[128544 rows x 1 columns]\n"
     ]
    }
   ],
   "source": [
    "# print filled dataset\n",
    "print(filled_df)"
   ]
  },
  {
   "cell_type": "code",
   "execution_count": 24,
   "id": "cf03b217",
   "metadata": {},
   "outputs": [],
   "source": [
    "filled_df.to_csv(r\"C:\\Users\\86130\\00.Project\\00.Data Preprocessing\\15mins_filled_df_data_usingknn.csv\",index=True,header=True) "
   ]
  },
  {
   "cell_type": "code",
   "execution_count": 25,
   "id": "fb09df4f",
   "metadata": {},
   "outputs": [
    {
     "name": "stdout",
     "output_type": "stream",
     "text": [
      "                     total power usage（kw）\n",
      "2019-06-14 08:15:00          187366.058700\n",
      "2019-06-14 08:30:00          190750.109100\n",
      "2019-06-14 08:45:00          195555.541400\n",
      "2019-06-14 09:00:00           79784.286200\n",
      "2019-06-14 09:15:00          213680.884196\n",
      "...                                    ...\n",
      "2019-06-14 23:00:00          213680.884196\n",
      "2019-06-14 23:15:00          213680.884196\n",
      "2019-06-14 23:30:00          213680.884196\n",
      "2019-06-14 23:45:00          213680.884196\n",
      "2019-06-15 00:00:00          213680.884196\n",
      "\n",
      "[64 rows x 1 columns]\n"
     ]
    }
   ],
   "source": [
    "start_date = '2019-06-14 08:15:00'\n",
    "end_date = '2019-06-15 00:00:00'\n",
    "date_range_data = filled_df.loc[start_date:end_date]\n",
    "\n",
    "#Print data within a specific date range\n",
    "print(date_range_data)"
   ]
  },
  {
   "cell_type": "code",
   "execution_count": 26,
   "id": "fdf878cf",
   "metadata": {},
   "outputs": [
    {
     "name": "stdout",
     "output_type": "stream",
     "text": [
      "                     total power usage（kw）\n",
      "2020-10-20 07:15:00          190244.176000\n",
      "2020-10-20 07:30:00          192204.909500\n",
      "2020-10-20 07:45:00          194930.736300\n",
      "2020-10-20 08:00:00          208965.396500\n",
      "2020-10-20 08:15:00          213680.884196\n",
      "2020-10-20 08:30:00          213680.884196\n",
      "2020-10-20 08:45:00          213680.884196\n",
      "2020-10-20 09:00:00          213680.884196\n",
      "2020-10-20 09:15:00          213680.884196\n",
      "2020-10-20 09:30:00          213680.884196\n",
      "2020-10-20 09:45:00          213680.884196\n",
      "2020-10-20 10:00:00          213680.884196\n",
      "2020-10-20 10:15:00          213680.884196\n",
      "2020-10-20 10:30:00          213680.884196\n",
      "2020-10-20 10:45:00          213680.884196\n",
      "2020-10-20 11:00:00          213680.884196\n",
      "2020-10-20 11:15:00          213680.884196\n",
      "2020-10-20 11:30:00          213680.884196\n",
      "2020-10-20 11:45:00          213680.884196\n",
      "2020-10-20 12:00:00          213680.884196\n",
      "2020-10-20 12:15:00          213680.884196\n",
      "2020-10-20 12:30:00          213680.884196\n",
      "2020-10-20 12:45:00          225385.334300\n",
      "2020-10-20 13:00:00          213680.884196\n",
      "2020-10-20 13:15:00          220339.290600\n",
      "2020-10-20 13:30:00          221324.081100\n",
      "2020-10-20 13:45:00          223218.387400\n",
      "2020-10-20 14:00:00          241321.534600\n",
      "2020-10-20 14:15:00          225195.958300\n",
      "2020-10-20 14:30:00          226599.743700\n",
      "2020-10-20 14:45:00          228887.316800\n",
      "2020-10-20 15:00:00          247331.144600\n",
      "2020-10-20 15:15:00          231317.985300\n",
      "2020-10-20 15:30:00          230772.289200\n",
      "2020-10-20 15:45:00          230826.018900\n",
      "2020-10-20 16:00:00          247422.341700\n"
     ]
    }
   ],
   "source": [
    "start_date1 = '2020-10-20 07:15:00'\n",
    "end_date1 = '2020-10-20 16:00:00'\n",
    "date_range_data1 = filled_df.loc[start_date1:end_date1]\n",
    "\n",
    "#Print data within a specific date range\n",
    "print(date_range_data1)"
   ]
  },
  {
   "cell_type": "code",
   "execution_count": 27,
   "id": "3ac20de9",
   "metadata": {},
   "outputs": [
    {
     "name": "stdout",
     "output_type": "stream",
     "text": [
      "                     total power usage（kw）\n",
      "2021-01-27 07:00:00             166443.153\n"
     ]
    }
   ],
   "source": [
    "start_date2 = '2021-01-27 07:00:00'\n",
    "end_date2 = '2021-01-27 07:00:00'\n",
    "date_range_data2 = filled_df.loc[start_date2:end_date2]\n",
    "\n",
    "#Print data within a specific date range\n",
    "print(date_range_data2)"
   ]
  },
  {
   "cell_type": "code",
   "execution_count": null,
   "id": "c72b587c",
   "metadata": {},
   "outputs": [],
   "source": []
  },
  {
   "cell_type": "code",
   "execution_count": 34,
   "id": "75ee2279",
   "metadata": {},
   "outputs": [
    {
     "data": {
      "text/html": [
       "<div>\n",
       "<style scoped>\n",
       "    .dataframe tbody tr th:only-of-type {\n",
       "        vertical-align: middle;\n",
       "    }\n",
       "\n",
       "    .dataframe tbody tr th {\n",
       "        vertical-align: top;\n",
       "    }\n",
       "\n",
       "    .dataframe thead th {\n",
       "        text-align: right;\n",
       "    }\n",
       "</style>\n",
       "<table border=\"1\" class=\"dataframe\">\n",
       "  <thead>\n",
       "    <tr style=\"text-align: right;\">\n",
       "      <th></th>\n",
       "      <th>total power usage（kw）</th>\n",
       "    </tr>\n",
       "    <tr>\n",
       "      <th>datatime</th>\n",
       "      <th></th>\n",
       "    </tr>\n",
       "  </thead>\n",
       "  <tbody>\n",
       "    <tr>\n",
       "      <th>2019-06-14 08:15:00</th>\n",
       "      <td>186429.5893</td>\n",
       "    </tr>\n",
       "    <tr>\n",
       "      <th>2019-06-14 08:30:00</th>\n",
       "      <td>186717.2492</td>\n",
       "    </tr>\n",
       "    <tr>\n",
       "      <th>2019-06-14 08:45:00</th>\n",
       "      <td>187922.7236</td>\n",
       "    </tr>\n",
       "    <tr>\n",
       "      <th>2019-06-14 09:00:00</th>\n",
       "      <td>189876.0669</td>\n",
       "    </tr>\n",
       "    <tr>\n",
       "      <th>2019-06-14 09:15:00</th>\n",
       "      <td>188956.6127</td>\n",
       "    </tr>\n",
       "  </tbody>\n",
       "</table>\n",
       "</div>"
      ],
      "text/plain": [
       "                     total power usage（kw）\n",
       "datatime                                  \n",
       "2019-06-14 08:15:00            186429.5893\n",
       "2019-06-14 08:30:00            186717.2492\n",
       "2019-06-14 08:45:00            187922.7236\n",
       "2019-06-14 09:00:00            189876.0669\n",
       "2019-06-14 09:15:00            188956.6127"
      ]
     },
     "execution_count": 34,
     "metadata": {},
     "output_type": "execute_result"
    }
   ],
   "source": [
    "Missdata=pd.read_csv(r'C:\\Users\\86130\\00.Project\\03.Datasets\\MissDataFilled.csv',index_col='datatime', parse_dates= ['datatime'] )\n",
    "Missdata.head()"
   ]
  },
  {
   "cell_type": "code",
   "execution_count": 35,
   "id": "c0317788",
   "metadata": {},
   "outputs": [
    {
     "data": {
      "text/html": [
       "<div>\n",
       "<style scoped>\n",
       "    .dataframe tbody tr th:only-of-type {\n",
       "        vertical-align: middle;\n",
       "    }\n",
       "\n",
       "    .dataframe tbody tr th {\n",
       "        vertical-align: top;\n",
       "    }\n",
       "\n",
       "    .dataframe thead th {\n",
       "        text-align: right;\n",
       "    }\n",
       "</style>\n",
       "<table border=\"1\" class=\"dataframe\">\n",
       "  <thead>\n",
       "    <tr style=\"text-align: right;\">\n",
       "      <th></th>\n",
       "      <th>total power usage（kw）</th>\n",
       "    </tr>\n",
       "    <tr>\n",
       "      <th>datatime</th>\n",
       "      <th></th>\n",
       "    </tr>\n",
       "  </thead>\n",
       "  <tbody>\n",
       "    <tr>\n",
       "      <th>2018-01-01 00:00:00</th>\n",
       "      <td>244033.7682</td>\n",
       "    </tr>\n",
       "    <tr>\n",
       "      <th>2018-01-01 00:15:00</th>\n",
       "      <td>232720.6402</td>\n",
       "    </tr>\n",
       "    <tr>\n",
       "      <th>2018-01-01 00:30:00</th>\n",
       "      <td>231685.6891</td>\n",
       "    </tr>\n",
       "    <tr>\n",
       "      <th>2018-01-01 00:45:00</th>\n",
       "      <td>227581.3317</td>\n",
       "    </tr>\n",
       "    <tr>\n",
       "      <th>2018-01-01 01:00:00</th>\n",
       "      <td>233482.4269</td>\n",
       "    </tr>\n",
       "  </tbody>\n",
       "</table>\n",
       "</div>"
      ],
      "text/plain": [
       "                     total power usage（kw）\n",
       "datatime                                  \n",
       "2018-01-01 00:00:00            244033.7682\n",
       "2018-01-01 00:15:00            232720.6402\n",
       "2018-01-01 00:30:00            231685.6891\n",
       "2018-01-01 00:45:00            227581.3317\n",
       "2018-01-01 01:00:00            233482.4269"
      ]
     },
     "execution_count": 35,
     "metadata": {},
     "output_type": "execute_result"
    }
   ],
   "source": [
    "data = df\n",
    "data.head()"
   ]
  },
  {
   "cell_type": "code",
   "execution_count": 36,
   "id": "fd56e42d",
   "metadata": {},
   "outputs": [
    {
     "data": {
      "text/html": [
       "<div>\n",
       "<style scoped>\n",
       "    .dataframe tbody tr th:only-of-type {\n",
       "        vertical-align: middle;\n",
       "    }\n",
       "\n",
       "    .dataframe tbody tr th {\n",
       "        vertical-align: top;\n",
       "    }\n",
       "\n",
       "    .dataframe thead th {\n",
       "        text-align: right;\n",
       "    }\n",
       "</style>\n",
       "<table border=\"1\" class=\"dataframe\">\n",
       "  <thead>\n",
       "    <tr style=\"text-align: right;\">\n",
       "      <th></th>\n",
       "      <th>total power usage（kw）</th>\n",
       "    </tr>\n",
       "    <tr>\n",
       "      <th>datatime</th>\n",
       "      <th></th>\n",
       "    </tr>\n",
       "  </thead>\n",
       "  <tbody>\n",
       "    <tr>\n",
       "      <th>2018-01-01 00:00:00</th>\n",
       "      <td>244033.7682</td>\n",
       "    </tr>\n",
       "    <tr>\n",
       "      <th>2018-01-01 00:15:00</th>\n",
       "      <td>232720.6402</td>\n",
       "    </tr>\n",
       "    <tr>\n",
       "      <th>2018-01-01 00:30:00</th>\n",
       "      <td>231685.6891</td>\n",
       "    </tr>\n",
       "    <tr>\n",
       "      <th>2018-01-01 00:45:00</th>\n",
       "      <td>227581.3317</td>\n",
       "    </tr>\n",
       "    <tr>\n",
       "      <th>2018-01-01 01:00:00</th>\n",
       "      <td>233482.4269</td>\n",
       "    </tr>\n",
       "  </tbody>\n",
       "</table>\n",
       "</div>"
      ],
      "text/plain": [
       "                     total power usage（kw）\n",
       "datatime                                  \n",
       "2018-01-01 00:00:00            244033.7682\n",
       "2018-01-01 00:15:00            232720.6402\n",
       "2018-01-01 00:30:00            231685.6891\n",
       "2018-01-01 00:45:00            227581.3317\n",
       "2018-01-01 01:00:00            233482.4269"
      ]
     },
     "execution_count": 36,
     "metadata": {},
     "output_type": "execute_result"
    }
   ],
   "source": [
    "Merged = pd.concat([data, Missdata])\n",
    "Merged.head()"
   ]
  },
  {
   "cell_type": "code",
   "execution_count": 37,
   "id": "c2f4b949",
   "metadata": {},
   "outputs": [],
   "source": [
    "# summary\n",
    "summary_stats = Merged.describe()\n",
    "\n",
    "# To find outliers, you need to check whether there are outliers in the fully populated data set.\n",
    "outliers = Merged[(Merged - summary_stats.loc['mean']).abs() > 3 * summary_stats.loc['std']]"
   ]
  },
  {
   "cell_type": "code",
   "execution_count": 38,
   "id": "61bfd754",
   "metadata": {},
   "outputs": [
    {
     "name": "stdout",
     "output_type": "stream",
     "text": [
      "                     total power usage（kw）\n",
      "datatime                                  \n",
      "2018-01-01 00:00:00                    NaN\n",
      "2018-01-01 00:15:00                    NaN\n",
      "2018-01-01 00:30:00                    NaN\n",
      "2018-01-01 00:45:00                    NaN\n",
      "2018-01-01 01:00:00                    NaN\n",
      "...                                    ...\n",
      "2021-08-09 06:30:00                    NaN\n",
      "2021-08-09 06:45:00                    NaN\n",
      "2021-08-09 07:00:00                    NaN\n",
      "2021-08-09 07:15:00                    NaN\n",
      "2021-08-09 07:30:00                    NaN\n",
      "\n",
      "[128544 rows x 1 columns]\n"
     ]
    }
   ],
   "source": [
    "print(outliers)"
   ]
  },
  {
   "cell_type": "code",
   "execution_count": 39,
   "id": "83870bb2",
   "metadata": {
    "scrolled": true
   },
   "outputs": [
    {
     "data": {
      "text/html": [
       "<div>\n",
       "<style scoped>\n",
       "    .dataframe tbody tr th:only-of-type {\n",
       "        vertical-align: middle;\n",
       "    }\n",
       "\n",
       "    .dataframe tbody tr th {\n",
       "        vertical-align: top;\n",
       "    }\n",
       "\n",
       "    .dataframe thead th {\n",
       "        text-align: right;\n",
       "    }\n",
       "</style>\n",
       "<table border=\"1\" class=\"dataframe\">\n",
       "  <thead>\n",
       "    <tr style=\"text-align: right;\">\n",
       "      <th></th>\n",
       "      <th>total power usage（kw）</th>\n",
       "    </tr>\n",
       "    <tr>\n",
       "      <th>datatime</th>\n",
       "      <th></th>\n",
       "    </tr>\n",
       "  </thead>\n",
       "  <tbody>\n",
       "    <tr>\n",
       "      <th>2018-01-01 00:00:00</th>\n",
       "      <td>True</td>\n",
       "    </tr>\n",
       "    <tr>\n",
       "      <th>2018-01-01 00:15:00</th>\n",
       "      <td>True</td>\n",
       "    </tr>\n",
       "    <tr>\n",
       "      <th>2018-01-01 00:30:00</th>\n",
       "      <td>True</td>\n",
       "    </tr>\n",
       "    <tr>\n",
       "      <th>2018-01-01 00:45:00</th>\n",
       "      <td>True</td>\n",
       "    </tr>\n",
       "    <tr>\n",
       "      <th>2018-01-01 01:00:00</th>\n",
       "      <td>True</td>\n",
       "    </tr>\n",
       "    <tr>\n",
       "      <th>...</th>\n",
       "      <td>...</td>\n",
       "    </tr>\n",
       "    <tr>\n",
       "      <th>2021-08-09 06:30:00</th>\n",
       "      <td>True</td>\n",
       "    </tr>\n",
       "    <tr>\n",
       "      <th>2021-08-09 06:45:00</th>\n",
       "      <td>True</td>\n",
       "    </tr>\n",
       "    <tr>\n",
       "      <th>2021-08-09 07:00:00</th>\n",
       "      <td>True</td>\n",
       "    </tr>\n",
       "    <tr>\n",
       "      <th>2021-08-09 07:15:00</th>\n",
       "      <td>True</td>\n",
       "    </tr>\n",
       "    <tr>\n",
       "      <th>2021-08-09 07:30:00</th>\n",
       "      <td>True</td>\n",
       "    </tr>\n",
       "  </tbody>\n",
       "</table>\n",
       "<p>128544 rows × 1 columns</p>\n",
       "</div>"
      ],
      "text/plain": [
       "                     total power usage（kw）\n",
       "datatime                                  \n",
       "2018-01-01 00:00:00                   True\n",
       "2018-01-01 00:15:00                   True\n",
       "2018-01-01 00:30:00                   True\n",
       "2018-01-01 00:45:00                   True\n",
       "2018-01-01 01:00:00                   True\n",
       "...                                    ...\n",
       "2021-08-09 06:30:00                   True\n",
       "2021-08-09 06:45:00                   True\n",
       "2021-08-09 07:00:00                   True\n",
       "2021-08-09 07:15:00                   True\n",
       "2021-08-09 07:30:00                   True\n",
       "\n",
       "[128544 rows x 1 columns]"
      ]
     },
     "execution_count": 39,
     "metadata": {},
     "output_type": "execute_result"
    }
   ],
   "source": [
    "outliers.isnull()"
   ]
  },
  {
   "cell_type": "code",
   "execution_count": 40,
   "id": "72db01a7",
   "metadata": {},
   "outputs": [
    {
     "data": {
      "image/png": "[encoded data removed]",
      "text/plain": [
       "<Figure size 432x288 with 1 Axes>"
      ]
     },
     "metadata": {
      "needs_background": "light"
     },
     "output_type": "display_data"
    }
   ],
   "source": [
    "import seaborn as sns\n",
    "import matplotlib.pyplot as plt\n",
    "sns.boxplot(data=Merged)\n",
    "plt.show()"
   ]
  },
  {
   "cell_type": "code",
   "execution_count": 41,
   "id": "4a5e7c9d",
   "metadata": {},
   "outputs": [
    {
     "data": {
      "text/plain": [
       "<matplotlib.legend.Legend at 0x1e813bc3f10>"
      ]
     },
     "execution_count": 41,
     "metadata": {},
     "output_type": "execute_result"
    },
    {
     "data": {
      "image/png": "[encoded data removed]",
      "text/plain": [
       "<Figure size 1080x288 with 1 Axes>"
      ]
     },
     "metadata": {
      "needs_background": "light"
     },
     "output_type": "display_data"
    }
   ],
   "source": [
    "plt.figure(figsize=(15,4))\n",
    "plt.grid(color='tomato',linestyle='--',linewidth=0.25)\n",
    "plt.plot(Merged,label='Original Power Data',color='skyblue')\n",
    "plt.plot(Merged.resample('D').mean(),label='Daily Mean Power Data',color='green')\n",
    "plt.title('Original Power Data VS Daily Mean Power Data')\n",
    "plt.ylabel('total power usage（kw）')\n",
    "plt.xlabel('datatime')\n",
    "plt.legend()###Original data and daily average power curve comparison chart"
   ]
  },
  {
   "cell_type": "code",
   "execution_count": 42,
   "id": "0f9cae10",
   "metadata": {},
   "outputs": [],
   "source": [
    "\n",
    "data_day_mean=Merged.resample('D').mean().values\n",
    "data_values=[Merged.iloc[i+96*j,0]-data_day_mean[j][0] for j in range(1339) for i in range(96)]"
   ]
  },
  {
   "cell_type": "code",
   "execution_count": 43,
   "id": "b48b1fcc",
   "metadata": {},
   "outputs": [
    {
     "data": {
      "text/plain": [
       "<matplotlib.legend.Legend at 0x1e814f4fb20>"
      ]
     },
     "execution_count": 43,
     "metadata": {},
     "output_type": "execute_result"
    },
    {
     "data": {
      "image/png": "[encoded data removed]",
      "text/plain": [
       "<Figure size 1080x288 with 1 Axes>"
      ]
     },
     "metadata": {
      "needs_background": "light"
     },
     "output_type": "display_data"
    }
   ],
   "source": [
    "dti=pd.date_range(\"2018-01-01\",periods=128544,freq=\"15T\")\n",
    "plt.figure(figsize=(15,4))\n",
    "plt.grid(color='tomato',linestyle='--',linewidth=0.25)\n",
    "plt.title('Daily Power Variability Chart')\n",
    "plt.ylabel('Total Power Usage')\n",
    "plt.xlabel('Datatime')\n",
    "plt.plot(dti,data_values,color='green',label='Dailt Power Flu')\n",
    "plt.legend()"
   ]
  },
  {
   "cell_type": "code",
   "execution_count": 44,
   "id": "8b67ee41",
   "metadata": {},
   "outputs": [
    {
     "data": {
      "text/plain": [
       "675"
      ]
     },
     "execution_count": 44,
     "metadata": {},
     "output_type": "execute_result"
    }
   ],
   "source": [
    "data_values=pd.Series(data_values)\n",
    "mean=data_values.mean()\n",
    "std=data_values.std()\n",
    "rule=(mean-3*std > data_values) | (mean+3*std < data_values)\n",
    "rule.sum()"
   ]
  },
  {
   "cell_type": "code",
   "execution_count": 45,
   "id": "4f17bb4c",
   "metadata": {},
   "outputs": [],
   "source": [
    "data_del_wrong=data_values.copy()\n",
    "data_del_wrong[rule]=data_values.median()#\n",
    "data_del_wrong[rule]=pd.Series(data_del_wrong).rolling(10,center=True).mean()[rule]##\n",
    "data_smooth=pd.Series(data_del_wrong)"
   ]
  },
  {
   "cell_type": "code",
   "execution_count": 46,
   "id": "75c48e1c",
   "metadata": {},
   "outputs": [
    {
     "data": {
      "text/plain": [
       "0    20632.702162\n",
       "1     9319.574162\n",
       "2     8284.623062\n",
       "3     4180.265662\n",
       "4    10081.360862\n",
       "dtype: float64"
      ]
     },
     "execution_count": 46,
     "metadata": {},
     "output_type": "execute_result"
    }
   ],
   "source": [
    "data_smooth.head()"
   ]
  },
  {
   "cell_type": "code",
   "execution_count": 47,
   "id": "f53c7940",
   "metadata": {},
   "outputs": [
    {
     "data": {
      "text/plain": [
       "0    20632.702162\n",
       "1     9319.574162\n",
       "2     8284.623062\n",
       "3     4180.265662\n",
       "4    10081.360862\n",
       "dtype: float64"
      ]
     },
     "execution_count": 47,
     "metadata": {},
     "output_type": "execute_result"
    }
   ],
   "source": [
    "data_del_wrong.head()"
   ]
  },
  {
   "cell_type": "code",
   "execution_count": 48,
   "id": "7a380749",
   "metadata": {},
   "outputs": [
    {
     "data": {
      "text/plain": [
       "0    20632.702162\n",
       "1     9319.574162\n",
       "2     8284.623062\n",
       "3     4180.265662\n",
       "4    10081.360862\n",
       "dtype: float64"
      ]
     },
     "execution_count": 48,
     "metadata": {},
     "output_type": "execute_result"
    }
   ],
   "source": [
    "data_values.head()"
   ]
  },
  {
   "cell_type": "code",
   "execution_count": 49,
   "id": "5191533a",
   "metadata": {},
   "outputs": [
    {
     "data": {
      "text/html": [
       "<div>\n",
       "<style scoped>\n",
       "    .dataframe tbody tr th:only-of-type {\n",
       "        vertical-align: middle;\n",
       "    }\n",
       "\n",
       "    .dataframe tbody tr th {\n",
       "        vertical-align: top;\n",
       "    }\n",
       "\n",
       "    .dataframe thead th {\n",
       "        text-align: right;\n",
       "    }\n",
       "</style>\n",
       "<table border=\"1\" class=\"dataframe\">\n",
       "  <thead>\n",
       "    <tr style=\"text-align: right;\">\n",
       "      <th></th>\n",
       "      <th>total power usage（kw）</th>\n",
       "    </tr>\n",
       "    <tr>\n",
       "      <th>datatime</th>\n",
       "      <th></th>\n",
       "    </tr>\n",
       "  </thead>\n",
       "  <tbody>\n",
       "    <tr>\n",
       "      <th>2018-01-01 00:00:00</th>\n",
       "      <td>244033.7682</td>\n",
       "    </tr>\n",
       "    <tr>\n",
       "      <th>2018-01-01 00:15:00</th>\n",
       "      <td>232720.6402</td>\n",
       "    </tr>\n",
       "    <tr>\n",
       "      <th>2018-01-01 00:30:00</th>\n",
       "      <td>231685.6891</td>\n",
       "    </tr>\n",
       "    <tr>\n",
       "      <th>2018-01-01 00:45:00</th>\n",
       "      <td>227581.3317</td>\n",
       "    </tr>\n",
       "    <tr>\n",
       "      <th>2018-01-01 01:00:00</th>\n",
       "      <td>233482.4269</td>\n",
       "    </tr>\n",
       "  </tbody>\n",
       "</table>\n",
       "</div>"
      ],
      "text/plain": [
       "                     total power usage（kw）\n",
       "datatime                                  \n",
       "2018-01-01 00:00:00            244033.7682\n",
       "2018-01-01 00:15:00            232720.6402\n",
       "2018-01-01 00:30:00            231685.6891\n",
       "2018-01-01 00:45:00            227581.3317\n",
       "2018-01-01 01:00:00            233482.4269"
      ]
     },
     "execution_count": 49,
     "metadata": {},
     "output_type": "execute_result"
    }
   ],
   "source": [
    "Merged.head()"
   ]
  },
  {
   "cell_type": "code",
   "execution_count": 46,
   "id": "495ae61e",
   "metadata": {},
   "outputs": [],
   "source": [
    "Merged.to_csv(r\"C:\\Users\\86130\\01.CDS590\\Power Load Data Processing\\AfterProcessingMerged_15mins.csv\",index=True,header=True) "
   ]
  },
  {
   "cell_type": "code",
   "execution_count": 47,
   "id": "371f8c8d",
   "metadata": {},
   "outputs": [
    {
     "data": {
      "text/plain": [
       "<matplotlib.legend.Legend at 0x1da04ad3be0>"
      ]
     },
     "execution_count": 47,
     "metadata": {},
     "output_type": "execute_result"
    },
    {
     "data": {
      "image/png": "[encoded data removed]",
      "text/plain": [
       "<Figure size 1080x288 with 1 Axes>"
      ]
     },
     "metadata": {
      "needs_background": "light"
     },
     "output_type": "display_data"
    }
   ],
   "source": [
    "dti=pd.date_range(\"2018-01-01\",periods=128544,freq=\"15T\")\n",
    "plt.figure(figsize=(15,4))\n",
    "plt.grid(color='tomato',linestyle='--',linewidth=0.25)\n",
    "plt.title('Daily Power Variability Chart (Except Outliers)')\n",
    "plt.ylabel('Total Power Usage')\n",
    "plt.xlabel('Datatime')\n",
    "plt.plot(dti,data_values,color='green',label='Daily Power Flu')\n",
    "plt.plot(dti,data_smooth,color='skyblue',label='Daily Power Flu Except Outlies')\n",
    "plt.legend()"
   ]
  },
  {
   "cell_type": "code",
   "execution_count": 48,
   "id": "a8f7e09d",
   "metadata": {},
   "outputs": [
    {
     "data": {
      "text/plain": [
       "0    20632.702162\n",
       "1     9319.574162\n",
       "2     8284.623062\n",
       "3     4180.265662\n",
       "4    10081.360862\n",
       "dtype: float64"
      ]
     },
     "execution_count": 48,
     "metadata": {},
     "output_type": "execute_result"
    }
   ],
   "source": [
    "data_smooth.head()"
   ]
  },
  {
   "cell_type": "code",
   "execution_count": null,
   "id": "3692ef70",
   "metadata": {},
   "outputs": [],
   "source": []
  },
  {
   "cell_type": "code",
   "execution_count": 49,
   "id": "749c2bea",
   "metadata": {},
   "outputs": [],
   "source": [
    "data_smooth=np.asarray(data_smooth)"
   ]
  },
  {
   "cell_type": "code",
   "execution_count": 51,
   "id": "8bb49847",
   "metadata": {},
   "outputs": [
    {
     "data": {
      "text/plain": [
       "array([0.65339093, 0.56935004, 0.56166179, ..., 0.38329839, 0.38329839,\n",
       "       0.38329839])"
      ]
     },
     "execution_count": 51,
     "metadata": {},
     "output_type": "execute_result"
    }
   ],
   "source": [
    "\n",
    "from sklearn.preprocessing import StandardScaler\n",
    "from sklearn.preprocessing import MinMaxScaler\n",
    "scaler= MinMaxScaler(feature_range=(0,1))\n",
    "data_scaled = scaler.fit_transform(data_smooth.reshape(-1,1))[:,0]\n",
    "data_scaled"
   ]
  },
  {
   "cell_type": "code",
   "execution_count": 58,
   "id": "fa07e6e9",
   "metadata": {},
   "outputs": [],
   "source": [
    "import pickle as pk\n",
    "with open('scaler.pkl','wb')as file:\n",
    "    pk.dump(scaler,file)"
   ]
  },
  {
   "cell_type": "code",
   "execution_count": null,
   "id": "75722121",
   "metadata": {},
   "outputs": [],
   "source": []
  }
 ],
 "metadata": {
  "kernelspec": {
   "display_name": "Python 3 (ipykernel)",
   "language": "python",
   "name": "python3"
  },
  "language_info": {
   "codemirror_mode": {
    "name": "ipython",
    "version": 3
   },
   "file_extension": ".py",
   "mimetype": "text/x-python",
   "name": "python",
   "nbconvert_exporter": "python",
   "pygments_lexer": "ipython3",
   "version": "3.9.12"
  }
 },
 "nbformat": 4,
 "nbformat_minor": 5
}
